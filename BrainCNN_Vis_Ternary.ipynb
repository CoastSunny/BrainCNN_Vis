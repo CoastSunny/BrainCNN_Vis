{
 "cells": [
  {
   "cell_type": "markdown",
   "metadata": {},
   "source": [
    "Visualizing activations from a trained model\n",
    "--"
   ]
  },
  {
   "cell_type": "code",
   "execution_count": 1,
   "metadata": {
    "collapsed": true
   },
   "outputs": [],
   "source": [
    "from matplotlib import pyplot as plt \n",
    "%matplotlib inline \n",
    "\n",
    "import numpy as np \n",
    "\n",
    "import os "
   ]
  },
  {
   "cell_type": "markdown",
   "metadata": {},
   "source": [
    "First we need to define the model"
   ]
  },
  {
   "cell_type": "code",
   "execution_count": 2,
   "metadata": {},
   "outputs": [
    {
     "name": "stderr",
     "output_type": "stream",
     "text": [
      "Using TensorFlow backend.\n"
     ]
    }
   ],
   "source": [
    "from keras.models import load_model\n",
    "import h5py\n",
    "from scipy.stats import pearsonr\n",
    "# In[48]:\n",
    "\n",
    "# Load the data to get the number of features\n",
    "datadir = \"/Users/nicolasfarrugia/Documents/recherche/git/Gold-MSI-LSD77/behav\"\n",
    "\n",
    "X = np.load(os.path.join(datadir,\"X_y_lsd77_static_tangent.npz\"))['X']\n",
    "\n",
    "n_feat = X.shape[1]"
   ]
  },
  {
   "cell_type": "markdown",
   "metadata": {},
   "source": [
    "Define the model. As we have a custom layer (E2E) it seems Keras can't save the model entirely, but only its weights, so we need to redefine it fully before loading the trained parameters"
   ]
  },
  {
   "cell_type": "code",
   "execution_count": 3,
   "metadata": {},
   "outputs": [
    {
     "name": "stdout",
     "output_type": "stream",
     "text": [
      "kernel_shape : (2, 64, 1, 32)\n",
      "data shape : (?, 64, 64, 1)\n",
      "(1, 64, 1, 32)\n",
      "(64, 1, 1, 32)\n",
      "cat1(?, 64, 64, 32)\n",
      "cat2<dtype: 'float32'>\n",
      "First layer output shape :(None, 64, 64, 32)\n",
      "kernel_shape : (2, 64, 32, 32)\n",
      "data shape : (?, 64, 64, 32)\n",
      "(1, 64, 32, 32)\n",
      "(64, 1, 32, 32)\n",
      "cat1(?, 64, 64, 32)\n",
      "cat2<dtype: 'float32'>\n",
      "(None, 64, 64, 32)\n",
      "_________________________________________________________________\n",
      "Layer (type)                 Output Shape              Param #   \n",
      "=================================================================\n",
      "e2e_conv_1 (E2E_conv)        (None, 64, 64, 32)        4096      \n",
      "_________________________________________________________________\n",
      "leaky_re_lu_1 (LeakyReLU)    (None, 64, 64, 32)        0         \n",
      "_________________________________________________________________\n",
      "e2e_conv_2 (E2E_conv)        (None, 64, 64, 32)        131072    \n",
      "_________________________________________________________________\n",
      "leaky_re_lu_2 (LeakyReLU)    (None, 64, 64, 32)        0         \n",
      "_________________________________________________________________\n",
      "conv2d_1 (Conv2D)            (None, 64, 1, 64)         131136    \n",
      "_________________________________________________________________\n",
      "leaky_re_lu_3 (LeakyReLU)    (None, 64, 1, 64)         0         \n",
      "_________________________________________________________________\n",
      "conv2d_2 (Conv2D)            (None, 1, 1, 256)         1048832   \n",
      "_________________________________________________________________\n",
      "leaky_re_lu_4 (LeakyReLU)    (None, 1, 1, 256)         0         \n",
      "_________________________________________________________________\n",
      "dropout_1 (Dropout)          (None, 1, 1, 256)         0         \n",
      "_________________________________________________________________\n",
      "dense_1 (Dense)              (None, 1, 1, 128)         32896     \n",
      "_________________________________________________________________\n",
      "leaky_re_lu_5 (LeakyReLU)    (None, 1, 1, 128)         0         \n",
      "_________________________________________________________________\n",
      "dropout_2 (Dropout)          (None, 1, 1, 128)         0         \n",
      "_________________________________________________________________\n",
      "dense_2 (Dense)              (None, 1, 1, 30)          3870      \n",
      "_________________________________________________________________\n",
      "leaky_re_lu_6 (LeakyReLU)    (None, 1, 1, 30)          0         \n",
      "_________________________________________________________________\n",
      "dropout_3 (Dropout)          (None, 1, 1, 30)          0         \n",
      "_________________________________________________________________\n",
      "dense_3 (Dense)              (None, 1, 1, 2)           62        \n",
      "_________________________________________________________________\n",
      "flatten_1 (Flatten)          (None, 2)                 0         \n",
      "_________________________________________________________________\n",
      "leaky_re_lu_7 (LeakyReLU)    (None, 2)                 0         \n",
      "=================================================================\n",
      "Total params: 1,351,964\n",
      "Trainable params: 1,351,964\n",
      "Non-trainable params: 0\n",
      "_________________________________________________________________\n"
     ]
    }
   ],
   "source": [
    "from keras.models import Sequential\n",
    "from keras.layers import Convolution2D\n",
    "from keras.layers import Dense, Dropout, Flatten\n",
    "from keras.layers.advanced_activations import LeakyReLU\n",
    "from keras import optimizers, callbacks, regularizers, initializers\n",
    "from E2E_conv import *\n",
    "from E2E_conv import *\n",
    "\n",
    "batch_size = 14\n",
    "dropout = 0.5\n",
    "momentum = 0.9\n",
    "noise_weight = 0.125\n",
    "lr = 0.01\n",
    "decay = 0.0005\n",
    "\n",
    "# Setting l2_norm regularizer\n",
    "reg = regularizers.l2(decay)\n",
    "kernel_init = initializers.he_uniform()\n",
    "\n",
    "\n",
    "model = Sequential()\n",
    "model.add(E2E_conv(2,32,(2,n_feat),kernel_regularizer=reg,input_shape=(n_feat,n_feat,1),input_dtype='float32',data_format=\"channels_last\"))\n",
    "print(\"First layer output shape :\"+str(model.output_shape))\n",
    "model.add(LeakyReLU(alpha=0.33))\n",
    "#print(model.output_shape)\n",
    "model.add(E2E_conv(2,32,(2,n_feat),kernel_regularizer=reg,data_format=\"channels_last\"))\n",
    "print(model.output_shape)\n",
    "model.add(LeakyReLU(alpha=0.33))\n",
    "model.add(Convolution2D(64,(1,n_feat),kernel_regularizer=reg,data_format=\"channels_last\"))\n",
    "model.add(LeakyReLU(alpha=0.33))\n",
    "model.add(Convolution2D(256,(n_feat,1),kernel_regularizer=reg,data_format=\"channels_last\"))\n",
    "model.add(LeakyReLU(alpha=0.33))\n",
    "#print(model.output_shape)\n",
    "model.add(Dropout(0.5))\n",
    "model.add(Dense(128,kernel_regularizer=reg,kernel_initializer=kernel_init))\n",
    "#print(model.output_shape)\n",
    "model.add(LeakyReLU(alpha=0.33))\n",
    "#print(model.output_shape)\n",
    "model.add(Dropout(0.5))\n",
    "model.add(Dense(30,kernel_regularizer=reg,kernel_initializer=kernel_init))\n",
    "model.add(LeakyReLU(alpha=0.33))\n",
    "#print(model.output_shape)\n",
    "model.add(Dropout(0.5))\n",
    "model.add(Dense(2,kernel_regularizer=reg,kernel_initializer=kernel_init))\n",
    "model.add(Flatten())\n",
    "model.add(LeakyReLU(alpha=0.33))\n",
    "model.summary()\n",
    "\n",
    "model.load_weights(\"BrainCNN-gmsi.h5\")"
   ]
  },
  {
   "cell_type": "markdown",
   "metadata": {},
   "source": [
    "Load the behavioral data to get the labels"
   ]
  },
  {
   "cell_type": "code",
   "execution_count": 4,
   "metadata": {},
   "outputs": [
    {
     "name": "stdout",
     "output_type": "stream",
     "text": [
      " Selecting only  GoldMSI_Active_sum , GoldMSI_Training_sum\n"
     ]
    }
   ],
   "source": [
    "y = np.load(os.path.join(datadir,\"X_y_lsd77_static_tangent.npz\"))['y']\n",
    "labels = np.load(os.path.join(datadir,\"X_y_lsd77_static_tangent.npz\"))['labels']\n",
    "ages = y[:,1]\n",
    "\n",
    "print(\" Selecting only \",labels[3],\",\",labels[4])\n",
    "\n",
    "\n",
    "y=y[:,[3,4]]"
   ]
  },
  {
   "cell_type": "markdown",
   "metadata": {},
   "source": [
    "Fetching BASC atlas and calculating coordinates of network baricenters. "
   ]
  },
  {
   "cell_type": "code",
   "execution_count": 5,
   "metadata": {
    "collapsed": true
   },
   "outputs": [],
   "source": [
    "import numpy as np\n",
    "from nilearn import datasets\n",
    "from nilearn.plotting import find_xyz_cut_coords\n",
    "from nilearn.image import math_img\n",
    "\n",
    "basc = datasets.fetch_atlas_basc_multiscale_2015(version='sym')['scale064']\n",
    "\n",
    "import nibabel as nib \n",
    "\n",
    "nib_basc444 = nib.load(basc)\n",
    "labels_data = nib_basc444.get_data()   \n",
    "\n",
    "#fetch all possible label values \n",
    "all_labels = np.unique(labels_data)\n",
    "# remove the 0. value which correspond to voxels out of ROIs\n",
    "all_labels = all_labels[1:]\n",
    "\n",
    "\n",
    "allcoords=[]\n",
    "for i,curlabel in enumerate(all_labels):\n",
    "    img_curlab = math_img(formula=\"img==%d\"%curlabel,img=nib_basc444)\n",
    "    allcoords.append(find_xyz_cut_coords(img_curlab))"
   ]
  },
  {
   "cell_type": "markdown",
   "metadata": {},
   "source": [
    "Now we test our new visualization method, that estimates a Ternay input by gradually enforcing the ternary structure to the solution"
   ]
  },
  {
   "cell_type": "code",
   "execution_count": 23,
   "metadata": {},
   "outputs": [],
   "source": [
    "import braincnn_vis as bcvis\n",
    "\n",
    "from importlib import reload \n",
    "\n",
    "reload(bcvis)\n",
    "\n",
    "heatmaptest,all_losses,named_losses,overall_loss = bcvis.visualize_activation_ternary_dynamic(model,\n",
    "                                                verbose = 0,alpha=1e-6,\n",
    "                                                   layer_idx=-1,\n",
    "                                                   filter_indices=0,\n",
    "                                                   act_max_weight=5, \n",
    "                                                   lp_norm_weight=0,\n",
    "                                                   tv_weight=0,max_iter=50)"
   ]
  },
  {
   "cell_type": "code",
   "execution_count": 24,
   "metadata": {},
   "outputs": [
    {
     "data": {
      "text/plain": [
       "[[('ActivationMax Loss', -0.28301528), ('Ternary Activation', 3.9495248e-05)],\n",
       " [('ActivationMax Loss', -1.4122031), ('Ternary Activation', 16.340994)],\n",
       " [('ActivationMax Loss', -0.58441156), ('Ternary Activation', 0.020073229)],\n",
       " [('ActivationMax Loss', -1.3029097), ('Ternary Activation', 2.5873687)],\n",
       " [('ActivationMax Loss', -0.92370719), ('Ternary Activation', 0.074330069)],\n",
       " [('ActivationMax Loss', -1.1557444), ('Ternary Activation', 1.514298)],\n",
       " [('ActivationMax Loss', -0.82422388), ('Ternary Activation', 0.033289809)],\n",
       " [('ActivationMax Loss', -1.244496), ('Ternary Activation', 1.0893703)],\n",
       " [('ActivationMax Loss', -0.87057912), ('Ternary Activation', 0.044878524)],\n",
       " [('ActivationMax Loss', -1.183665), ('Ternary Activation', 0.68962848)],\n",
       " [('ActivationMax Loss', -0.88188952), ('Ternary Activation', 0.045788247)],\n",
       " [('ActivationMax Loss', -1.1540846), ('Ternary Activation', 0.46465233)],\n",
       " [('ActivationMax Loss', -0.87361634), ('Ternary Activation', 0.048923064)],\n",
       " [('ActivationMax Loss', -1.1048533), ('Ternary Activation', 0.39106122)],\n",
       " [('ActivationMax Loss', -0.84480059), ('Ternary Activation', 0.047880173)],\n",
       " [('ActivationMax Loss', -1.0667269), ('Ternary Activation', 0.30364969)],\n",
       " [('ActivationMax Loss', -0.84913123), ('Ternary Activation', 0.051592786)],\n",
       " [('ActivationMax Loss', -1.0475509), ('Ternary Activation', 0.27537179)],\n",
       " [('ActivationMax Loss', -0.85219789), ('Ternary Activation', 0.051010799)],\n",
       " [('ActivationMax Loss', -1.0439689), ('Ternary Activation', 0.24967189)],\n",
       " [('ActivationMax Loss', -0.86502546), ('Ternary Activation', 0.055802342)],\n",
       " [('ActivationMax Loss', -1.0297252), ('Ternary Activation', 0.23728184)],\n",
       " [('ActivationMax Loss', -0.86728024), ('Ternary Activation', 0.055633567)],\n",
       " [('ActivationMax Loss', -1.0257905), ('Ternary Activation', 0.21140337)],\n",
       " [('ActivationMax Loss', -0.86351103), ('Ternary Activation', 0.066246629)],\n",
       " [('ActivationMax Loss', -0.97562838), ('Ternary Activation', 0.17284122)],\n",
       " [('ActivationMax Loss', -0.88427317), ('Ternary Activation', 0.07790453)],\n",
       " [('ActivationMax Loss', -0.95807755), ('Ternary Activation', 0.15819582)],\n",
       " [('ActivationMax Loss', -0.86969817), ('Ternary Activation', 0.084008656)],\n",
       " [('ActivationMax Loss', -0.92678022), ('Ternary Activation', 0.12797032)],\n",
       " [('ActivationMax Loss', -0.89263451), ('Ternary Activation', 0.094409034)],\n",
       " [('ActivationMax Loss', -0.91983682), ('Ternary Activation', 0.10723469)],\n",
       " [('ActivationMax Loss', -0.91241693), ('Ternary Activation', 0.11352322)],\n",
       " [('ActivationMax Loss', -0.89590782), ('Ternary Activation', 0.093973264)],\n",
       " [('ActivationMax Loss', -0.92346072), ('Ternary Activation', 0.12245331)],\n",
       " [('ActivationMax Loss', -0.87853444), ('Ternary Activation', 0.086089328)],\n",
       " [('ActivationMax Loss', -0.92441809), ('Ternary Activation', 0.12783492)],\n",
       " [('ActivationMax Loss', -0.87250936), ('Ternary Activation', 0.082845069)],\n",
       " [('ActivationMax Loss', -0.92908794), ('Ternary Activation', 0.12384288)],\n",
       " [('ActivationMax Loss', -0.8764447), ('Ternary Activation', 0.088979632)],\n",
       " [('ActivationMax Loss', -0.90845078), ('Ternary Activation', 0.11862867)],\n",
       " [('ActivationMax Loss', -0.87061375), ('Ternary Activation', 0.089620322)],\n",
       " [('ActivationMax Loss', -0.89830285), ('Ternary Activation', 0.11082988)],\n",
       " [('ActivationMax Loss', -0.88000602), ('Ternary Activation', 0.094717532)],\n",
       " [('ActivationMax Loss', -0.88878006), ('Ternary Activation', 0.11008994)],\n",
       " [('ActivationMax Loss', -0.86947596), ('Ternary Activation', 0.090913288)],\n",
       " [('ActivationMax Loss', -0.88435376), ('Ternary Activation', 0.10942281)],\n",
       " [('ActivationMax Loss', -0.86041296), ('Ternary Activation', 0.093292393)],\n",
       " [('ActivationMax Loss', -0.8714968), ('Ternary Activation', 0.104268)],\n",
       " [('ActivationMax Loss', -0.85543185), ('Ternary Activation', 0.091749661)]]"
      ]
     },
     "execution_count": 24,
     "metadata": {},
     "output_type": "execute_result"
    }
   ],
   "source": [
    "all_losses"
   ]
  },
  {
   "cell_type": "code",
   "execution_count": 11,
   "metadata": {},
   "outputs": [
    {
     "data": {
      "text/plain": [
       "<matplotlib.colorbar.Colorbar at 0x11b0654e0>"
      ]
     },
     "execution_count": 11,
     "metadata": {},
     "output_type": "execute_result"
    },
    {
     "data": {
      "image/png": "[encoded data removed]",
      "text/plain": [
       "<matplotlib.figure.Figure at 0x11c468908>"
      ]
     },
     "metadata": {},
     "output_type": "display_data"
    }
   ],
   "source": [
    "plt.imshow(((heatmaptest)),interpolation='nearest',vmin=-0.5,vmax=0.5,cmap=plt.cm.RdBu_r)\n",
    "plt.colorbar()\n"
   ]
  },
  {
   "cell_type": "code",
   "execution_count": null,
   "metadata": {},
   "outputs": [],
   "source": [
    "from nilearn.plotting import plot_connectome\n",
    "\n",
    "plot_connectome((heatmaptest),allcoords,edge_threshold = '99%')\n",
    "\n"
   ]
  }
 ],
 "metadata": {
  "kernelspec": {
   "display_name": "Python 3",
   "language": "python",
   "name": "python3"
  },
  "language_info": {
   "codemirror_mode": {
    "name": "ipython",
    "version": 3
   },
   "file_extension": ".py",
   "mimetype": "text/x-python",
   "name": "python",
   "nbconvert_exporter": "python",
   "pygments_lexer": "ipython3",
   "version": "3.6.0"
  }
 },
 "nbformat": 4,
 "nbformat_minor": 2
}
